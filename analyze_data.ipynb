{
 "cells": [
  {
   "cell_type": "code",
   "execution_count": 8,
   "metadata": {},
   "outputs": [],
   "source": [
    "import pandas as pd\n",
    "import matplotlib.pyplot as plt"
   ]
  },
  {
   "cell_type": "code",
   "execution_count": 5,
   "metadata": {},
   "outputs": [
    {
     "data": {
      "text/html": [
       "<div>\n",
       "<style scoped>\n",
       "    .dataframe tbody tr th:only-of-type {\n",
       "        vertical-align: middle;\n",
       "    }\n",
       "\n",
       "    .dataframe tbody tr th {\n",
       "        vertical-align: top;\n",
       "    }\n",
       "\n",
       "    .dataframe thead th {\n",
       "        text-align: right;\n",
       "    }\n",
       "</style>\n",
       "<table border=\"1\" class=\"dataframe\">\n",
       "  <thead>\n",
       "    <tr style=\"text-align: right;\">\n",
       "      <th></th>\n",
       "      <th>Diện tích</th>\n",
       "      <th>Diện tích_unit</th>\n",
       "      <th>Giá</th>\n",
       "      <th>Giá_unit</th>\n",
       "      <th>Mặt tiền</th>\n",
       "      <th>Mặt tiền_unit</th>\n",
       "      <th>Đường vào</th>\n",
       "      <th>Đường vào_unit</th>\n",
       "      <th>Số tầng</th>\n",
       "      <th>Số tầng_unit</th>\n",
       "      <th>Số phòng vệ sinh</th>\n",
       "      <th>Pháp lý</th>\n",
       "      <th>Hướng nhà</th>\n",
       "      <th>Hướng ban công</th>\n",
       "    </tr>\n",
       "  </thead>\n",
       "  <tbody>\n",
       "    <tr>\n",
       "      <th>0</th>\n",
       "      <td>105.0</td>\n",
       "      <td>m</td>\n",
       "      <td>16.0</td>\n",
       "      <td>Tỷ</td>\n",
       "      <td>4.6</td>\n",
       "      <td>m</td>\n",
       "      <td>15.0</td>\n",
       "      <td>m</td>\n",
       "      <td>5.0</td>\n",
       "      <td>tầng</td>\n",
       "      <td>4.0</td>\n",
       "      <td>Sổ đỏ/ Sổ hồng</td>\n",
       "      <td>NaN</td>\n",
       "      <td>NaN</td>\n",
       "    </tr>\n",
       "    <tr>\n",
       "      <th>1</th>\n",
       "      <td>86.0</td>\n",
       "      <td>m</td>\n",
       "      <td>3.9</td>\n",
       "      <td>Tỷ</td>\n",
       "      <td>6.7</td>\n",
       "      <td>m</td>\n",
       "      <td>3.0</td>\n",
       "      <td>m</td>\n",
       "      <td>4.0</td>\n",
       "      <td>tầng</td>\n",
       "      <td>NaN</td>\n",
       "      <td>Sổ đỏ/ Sổ hồng</td>\n",
       "      <td>NaN</td>\n",
       "      <td>NaN</td>\n",
       "    </tr>\n",
       "    <tr>\n",
       "      <th>2</th>\n",
       "      <td>183.0</td>\n",
       "      <td>m</td>\n",
       "      <td>20.0</td>\n",
       "      <td>Tỷ</td>\n",
       "      <td>9.0</td>\n",
       "      <td>m</td>\n",
       "      <td>26.0</td>\n",
       "      <td>m</td>\n",
       "      <td>NaN</td>\n",
       "      <td>NaN</td>\n",
       "      <td>NaN</td>\n",
       "      <td>Sổ đỏ/ Sổ hồng</td>\n",
       "      <td>NaN</td>\n",
       "      <td>NaN</td>\n",
       "    </tr>\n",
       "    <tr>\n",
       "      <th>3</th>\n",
       "      <td>56.0</td>\n",
       "      <td>m</td>\n",
       "      <td>5.5</td>\n",
       "      <td>Tỷ</td>\n",
       "      <td>5.0</td>\n",
       "      <td>m</td>\n",
       "      <td>6.0</td>\n",
       "      <td>m</td>\n",
       "      <td>5.0</td>\n",
       "      <td>tầng</td>\n",
       "      <td>4.0</td>\n",
       "      <td>Sổ đỏ/ Sổ hồng</td>\n",
       "      <td>NaN</td>\n",
       "      <td>NaN</td>\n",
       "    </tr>\n",
       "    <tr>\n",
       "      <th>4</th>\n",
       "      <td>286.0</td>\n",
       "      <td>m</td>\n",
       "      <td>116.0</td>\n",
       "      <td>Tỷ</td>\n",
       "      <td>21.0</td>\n",
       "      <td>m</td>\n",
       "      <td>30.0</td>\n",
       "      <td>m</td>\n",
       "      <td>3.0</td>\n",
       "      <td>tầng</td>\n",
       "      <td>NaN</td>\n",
       "      <td>Sổ đỏ/ Sổ hồng</td>\n",
       "      <td>NaN</td>\n",
       "      <td>NaN</td>\n",
       "    </tr>\n",
       "  </tbody>\n",
       "</table>\n",
       "</div>"
      ],
      "text/plain": [
       "   Diện tích Diện tích_unit    Giá Giá_unit  Mặt tiền Mặt tiền_unit  \\\n",
       "0      105.0              m   16.0       Tỷ       4.6             m   \n",
       "1       86.0              m    3.9       Tỷ       6.7             m   \n",
       "2      183.0              m   20.0       Tỷ       9.0             m   \n",
       "3       56.0              m    5.5       Tỷ       5.0             m   \n",
       "4      286.0              m  116.0       Tỷ      21.0             m   \n",
       "\n",
       "   Đường vào Đường vào_unit  Số tầng Số tầng_unit  Số phòng vệ sinh  \\\n",
       "0       15.0              m      5.0         tầng               4.0   \n",
       "1        3.0              m      4.0         tầng               NaN   \n",
       "2       26.0              m      NaN          NaN               NaN   \n",
       "3        6.0              m      5.0         tầng               4.0   \n",
       "4       30.0              m      3.0         tầng               NaN   \n",
       "\n",
       "          Pháp lý Hướng nhà Hướng ban công  \n",
       "0  Sổ đỏ/ Sổ hồng       NaN            NaN  \n",
       "1  Sổ đỏ/ Sổ hồng       NaN            NaN  \n",
       "2  Sổ đỏ/ Sổ hồng       NaN            NaN  \n",
       "3  Sổ đỏ/ Sổ hồng       NaN            NaN  \n",
       "4  Sổ đỏ/ Sổ hồng       NaN            NaN  "
      ]
     },
     "execution_count": 5,
     "metadata": {},
     "output_type": "execute_result"
    }
   ],
   "source": [
    "# Read in the data\n",
    "house_data = pd.read_csv('house_data.csv')\n",
    "house_data.head()"
   ]
  },
  {
   "cell_type": "code",
   "execution_count": 6,
   "metadata": {},
   "outputs": [
    {
     "data": {
      "text/plain": [
       "(200, 14)"
      ]
     },
     "execution_count": 6,
     "metadata": {},
     "output_type": "execute_result"
    }
   ],
   "source": [
    "# Dataset size\n",
    "house_data.shape"
   ]
  },
  {
   "cell_type": "code",
   "execution_count": 7,
   "metadata": {},
   "outputs": [
    {
     "name": "stdout",
     "output_type": "stream",
     "text": [
      "<class 'pandas.core.frame.DataFrame'>\n",
      "RangeIndex: 200 entries, 0 to 199\n",
      "Data columns (total 14 columns):\n",
      " #   Column            Non-Null Count  Dtype  \n",
      "---  ------            --------------  -----  \n",
      " 0   Diện tích         197 non-null    float64\n",
      " 1   Diện tích_unit    197 non-null    object \n",
      " 2   Giá               188 non-null    float64\n",
      " 3   Giá_unit          188 non-null    object \n",
      " 4   Mặt tiền          164 non-null    float64\n",
      " 5   Mặt tiền_unit     164 non-null    object \n",
      " 6   Đường vào         197 non-null    float64\n",
      " 7   Đường vào_unit    197 non-null    object \n",
      " 8   Số tầng           168 non-null    float64\n",
      " 9   Số tầng_unit      168 non-null    object \n",
      " 10  Số phòng vệ sinh  147 non-null    float64\n",
      " 11  Pháp lý           200 non-null    object \n",
      " 12  Hướng nhà         27 non-null     object \n",
      " 13  Hướng ban công    27 non-null     object \n",
      "dtypes: float64(6), object(8)\n",
      "memory usage: 22.0+ KB\n"
     ]
    }
   ],
   "source": [
    " # Details on columns in dataset: name, non-null count, data type\n",
    "house_data.info()"
   ]
  },
  {
   "cell_type": "code",
   "execution_count": 9,
   "metadata": {},
   "outputs": [
    {
     "data": {
      "text/plain": [
       "Diện tích            76\n",
       "Diện tích_unit        1\n",
       "Giá                 104\n",
       "Giá_unit              2\n",
       "Mặt tiền             39\n",
       "Mặt tiền_unit         1\n",
       "Đường vào            29\n",
       "Đường vào_unit        1\n",
       "Số tầng              15\n",
       "Số tầng_unit          1\n",
       "Số phòng vệ sinh     16\n",
       "Pháp lý               3\n",
       "Hướng nhà             4\n",
       "Hướng ban công        2\n",
       "dtype: int64"
      ]
     },
     "execution_count": 9,
     "metadata": {},
     "output_type": "execute_result"
    }
   ],
   "source": [
    "# Number of unique values within each column\n",
    "house_data.nunique()"
   ]
  },
  {
   "cell_type": "code",
   "execution_count": 12,
   "metadata": {},
   "outputs": [
    {
     "name": "stdout",
     "output_type": "stream",
     "text": [
      ">> Diện tích: ['m', nan]\n",
      ">> Giá: ['Tỷ', nan, 'Triệu']\n",
      ">> Mặt tiền: ['m', nan]\n",
      ">> Đường vào: ['m', nan]\n",
      ">> Số tầng: ['tầng', nan]\n"
     ]
    }
   ],
   "source": [
    "# Unique values within each unit column\n",
    "print(\">> Diện tích:\", house_data['Diện tích_unit'].unique().tolist())\n",
    "print(\">> Giá:\", house_data['Giá_unit'].unique().tolist())\n",
    "print(\">> Mặt tiền:\", house_data['Mặt tiền_unit'].unique().tolist())\n",
    "print(\">> Đường vào:\", house_data['Đường vào_unit'].unique().tolist())\n",
    "print(\">> Số tầng:\", house_data['Số tầng_unit'].unique().tolist())"
   ]
  },
  {
   "cell_type": "code",
   "execution_count": 13,
   "metadata": {},
   "outputs": [
    {
     "name": "stdout",
     "output_type": "stream",
     "text": [
      ">> Pháp lý: ['Sổ đỏ/ Sổ hồng', 'Đang chờ sổ', 'Hợp đồng mua bán']\n",
      ">> Hướng nhà: [nan, 'KXĐ', 'Đông Nam', 'Nam', 'Tây']\n",
      ">> Hướng ban công: [nan, 'KXĐ', 'Nam']\n"
     ]
    }
   ],
   "source": [
    "# Unique values within categorical columns\n",
    "print(\">> Pháp lý:\", house_data['Pháp lý'].unique().tolist())\n",
    "print(\">> Hướng nhà:\", house_data['Hướng nhà'].unique().tolist())\n",
    "print(\">> Hướng ban công:\", house_data['Hướng ban công'].unique().tolist())"
   ]
  },
  {
   "cell_type": "code",
   "execution_count": 20,
   "metadata": {},
   "outputs": [
    {
     "name": "stdout",
     "output_type": "stream",
     "text": [
      ">> Pháp lý: Pháp lý\n",
      "Sổ đỏ/ Sổ hồng      194\n",
      "Đang chờ sổ           5\n",
      "Hợp đồng mua bán      1\n",
      "Name: count, dtype: int64\n",
      ">> Hướng nhà: Hướng nhà\n",
      "NaN         173\n",
      "KXĐ          24\n",
      "Đông Nam      1\n",
      "Nam           1\n",
      "Tây           1\n",
      "Name: count, dtype: int64\n",
      ">> Hướng ban công: Hướng ban công\n",
      "NaN    173\n",
      "KXĐ     26\n",
      "Nam      1\n",
      "Name: count, dtype: int64\n"
     ]
    },
    {
     "data": {
      "text/plain": [
       "<Axes: xlabel='Hướng ban công'>"
      ]
     },
     "execution_count": 20,
     "metadata": {},
     "output_type": "execute_result"
    },
    {
     "data": {
      "image/png": "[encoded data removed]",
      "text/plain": [
       "<Figure size 1500x500 with 3 Axes>"
      ]
     },
     "metadata": {},
     "output_type": "display_data"
    }
   ],
   "source": [
    "# Analyze distribution within categorical columns. including NaN counts.\n",
    "print(\">> Pháp lý:\", house_data['Pháp lý'].value_counts(dropna=False))\n",
    "print(\">> Hướng nhà:\", house_data['Hướng nhà'].value_counts(dropna=False))\n",
    "print(\">> Hướng ban công:\", house_data['Hướng ban công'].value_counts(dropna=False))\n",
    "\n",
    "fig, axes = plt.subplots(1, 3, figsize=(15, 5))\n",
    "house_data['Pháp lý'].value_counts(dropna=False).plot(kind='bar', ax=axes[0], rot=45)\n",
    "house_data['Hướng nhà'].value_counts(dropna=False).plot(kind='bar', ax=axes[1], rot=45)\n",
    "house_data['Hướng ban công'].value_counts(dropna=False).plot(kind='bar', ax=axes[2], rot=45)"
   ]
  },
  {
   "cell_type": "code",
   "execution_count": null,
   "metadata": {},
   "outputs": [],
   "source": []
  }
 ],
 "metadata": {
  "kernelspec": {
   "display_name": ".venv",
   "language": "python",
   "name": "python3"
  },
  "language_info": {
   "codemirror_mode": {
    "name": "ipython",
    "version": 3
   },
   "file_extension": ".py",
   "mimetype": "text/x-python",
   "name": "python",
   "nbconvert_exporter": "python",
   "pygments_lexer": "ipython3",
   "version": "3.10.9"
  }
 },
 "nbformat": 4,
 "nbformat_minor": 2
}
