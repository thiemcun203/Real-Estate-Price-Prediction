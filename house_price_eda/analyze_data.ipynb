{
 "cells": [
  {
   "cell_type": "code",
   "execution_count": null,
   "metadata": {},
   "outputs": [],
   "source": [
    "import pandas as pd\n",
    "import matplotlib.pyplot as plt\n",
    "import json"
   ]
  },
  {
   "cell_type": "markdown",
   "metadata": {},
   "source": [
    "### LOAD JSON INTO CSV"
   ]
  },
  {
   "cell_type": "code",
   "execution_count": null,
   "metadata": {},
   "outputs": [],
   "source": [
    "house_data_json = json.load(open('combined_file.json', 'r'))\n",
    "house_data = pd.DataFrame()\n",
    "print(\">> Dataset size:\", len(house_data_json))\n",
    "\n",
    "for house_info in house_data_json:\n",
    "    house_info = pd.DataFrame(house_info, index=[0])\n",
    "    house_data = pd.concat([house_data, house_info], ignore_index=True)\n",
    "\n",
    "house_data.head()"
   ]
  },
  {
   "cell_type": "code",
   "execution_count": null,
   "metadata": {},
   "outputs": [],
   "source": [
    "house_data.tail()"
   ]
  },
  {
   "cell_type": "code",
   "execution_count": null,
   "metadata": {},
   "outputs": [],
   "source": [
    "# Dataset size\n",
    "house_data.shape"
   ]
  },
  {
   "cell_type": "code",
   "execution_count": null,
   "metadata": {},
   "outputs": [],
   "source": [
    "house_data.to_csv('house_data_nhadatvn.csv', index=False)"
   ]
  },
  {
   "cell_type": "code",
   "execution_count": null,
   "metadata": {},
   "outputs": [],
   "source": [
    " # Details on columns in dataset: name, non-null count, data type\n",
    "house_data.info()"
   ]
  },
  {
   "cell_type": "code",
   "execution_count": null,
   "metadata": {},
   "outputs": [],
   "source": [
    "# Number of unique values within each column\n",
    "house_data.nunique()"
   ]
  },
  {
   "cell_type": "markdown",
   "metadata": {},
   "source": [
    "### SIMPLE EDA"
   ]
  },
  {
   "cell_type": "code",
   "execution_count": null,
   "metadata": {},
   "outputs": [],
   "source": [
    "# Unique values within each unit column\n",
    "print(\">> Diện tích:\", house_data['Diện tích_unit'].unique().tolist())\n",
    "print(\">> Giá:\", house_data['Giá_unit'].unique().tolist())\n",
    "print(\">> Mặt tiền:\", house_data['Mặt tiền_unit'].unique().tolist())\n",
    "print(\">> Đường vào:\", house_data['Đường vào_unit'].unique().tolist())\n",
    "print(\">> Số tầng:\", house_data['Số tầng_unit'].unique().tolist())"
   ]
  },
  {
   "cell_type": "code",
   "execution_count": null,
   "metadata": {},
   "outputs": [],
   "source": [
    "# Unique values within categorical columns\n",
    "print(\">> Pháp lý:\", house_data['Pháp lý'].unique().tolist())\n",
    "print(\">> Hướng nhà:\", house_data['Hướng nhà'].unique().tolist())\n",
    "print(\">> Hướng ban công:\", house_data['Hướng ban công'].unique().tolist())"
   ]
  },
  {
   "cell_type": "code",
   "execution_count": null,
   "metadata": {},
   "outputs": [],
   "source": [
    "# Analyze distribution within categorical columns. including NaN counts.\n",
    "print(\">> Pháp lý:\", house_data['Pháp lý'].value_counts(dropna=False))\n",
    "print(\">> Hướng nhà:\", house_data['Hướng nhà'].value_counts(dropna=False))\n",
    "print(\">> Hướng ban công:\", house_data['Hướng ban công'].value_counts(dropna=False))\n",
    "\n",
    "fig, axes = plt.subplots(1, 3, figsize=(15, 5))\n",
    "house_data['Pháp lý'].value_counts(dropna=False).plot(kind='bar', ax=axes[0], rot=45)\n",
    "house_data['Hướng nhà'].value_counts(dropna=False).plot(kind='bar', ax=axes[1], rot=45)\n",
    "house_data['Hướng ban công'].value_counts(dropna=False).plot(kind='bar', ax=axes[2], rot=45)\n",
    "\n",
    "plt.show()"
   ]
  },
  {
   "cell_type": "code",
   "execution_count": null,
   "metadata": {},
   "outputs": [],
   "source": [
    "# Plot the distribution of number of bedrooms, number of stories, number of bathrooms, with x-axis in order\n",
    "fig, axes = plt.subplots(1, 3, figsize=(15, 5))\n",
    "house_data['Số phòng ngủ'].value_counts(dropna=False).sort_index().plot(kind='bar', ax=axes[0], rot=45)\n",
    "house_data['Số tầng'].value_counts(dropna=False).sort_index().plot(kind='bar', ax=axes[1], rot=45)\n",
    "house_data['Số phòng vệ sinh'].value_counts(dropna=False).sort_index().plot(kind='bar', ax=axes[2], rot=45)\n",
    "\n",
    "plt.show()"
   ]
  },
  {
   "cell_type": "code",
   "execution_count": null,
   "metadata": {},
   "outputs": [],
   "source": [
    "# Plot histogram of house area and price, with x-axis in order\n",
    "fig, axes = plt.subplots(1, 2, figsize=(15, 5))\n",
    "house_data['Diện tích'].hist(ax=axes[0], bins=50)\n",
    "axes[0].set_xlabel('Diện tích (m2)')\n",
    "house_data['Giá'].hist(ax=axes[1], bins=50)\n",
    "axes[1].set_xlabel('Giá (tỷ)')\n",
    "\n",
    "plt.show()\n",
    "\n",
    "# --- THE PLOT FOR PRICE IS WRONG, SOME VALUES ARE IN MILLIONS, SOME ARE IN BILLIONS ---"
   ]
  },
  {
   "cell_type": "code",
   "execution_count": null,
   "metadata": {},
   "outputs": [],
   "source": [
    "# Plot histogram of fronthouse and road, with x-axis in order\n",
    "fig, axes = plt.subplots(1, 2, figsize=(15, 5))\n",
    "house_data['Mặt tiền'].hist(ax=axes[0], bins=50)\n",
    "axes[0].set_xlabel('Mặt tiền (m)')\n",
    "house_data['Đường vào'].hist(ax=axes[1], bins=50)\n",
    "axes[1].set_xlabel('Đường vào (m)')\n",
    "\n",
    "plt.show()"
   ]
  },
  {
   "cell_type": "code",
   "execution_count": null,
   "metadata": {},
   "outputs": [],
   "source": [
    "# Plot histogram of the date the ad was posted, and the date the ad is due, with x-axis in order\n",
    "fig, axes = plt.subplots(1, 2, figsize=(15, 5))\n",
    "house_data['Ngày đăng'].hist(ax=axes[0], bins=50)\n",
    "axes[0].set_xlabel('Ngày đăng')\n",
    "house_data['Ngày hết hạn'].hist(ax=axes[1], bins=50)\n",
    "axes[1].set_xlabel('Ngày hết hạn')\n",
    "\n",
    "plt.show()\n",
    "\n",
    "# --- MAYBE IT'D BE BETTER JUST TO TAKE THE MONTH AND YEAR OF THE DATE ---\n",
    "# --- AND THEN PLOT A LINE GRAPH OF THE NUMBER OF ADS POSTED PER MONTH/YEAR ---"
   ]
  },
  {
   "cell_type": "markdown",
   "metadata": {},
   "source": [
    "### END EDA"
   ]
  }
 ],
 "metadata": {
  "kernelspec": {
   "display_name": ".venv",
   "language": "python",
   "name": "python3"
  },
  "language_info": {
   "codemirror_mode": {
    "name": "ipython",
    "version": 3
   },
   "file_extension": ".py",
   "mimetype": "text/x-python",
   "name": "python",
   "nbconvert_exporter": "python",
   "pygments_lexer": "ipython3",
   "version": "3.10.9"
  }
 },
 "nbformat": 4,
 "nbformat_minor": 2
}
