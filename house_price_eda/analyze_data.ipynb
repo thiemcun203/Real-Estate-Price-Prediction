{
 "cells": [
  {
   "cell_type": "code",
   "execution_count": 1,
   "metadata": {},
   "outputs": [],
   "source": [
    "import pandas as pd\n",
    "import matplotlib.pyplot as plt\n",
    "import json"
   ]
  },
  {
   "cell_type": "markdown",
   "metadata": {},
   "source": [
    "### LOAD JSON INTO CSV"
   ]
  },
  {
   "cell_type": "code",
   "execution_count": 2,
   "metadata": {},
   "outputs": [
    {
     "data": {
      "text/html": [
       "<div>\n",
       "<style scoped>\n",
       "    .dataframe tbody tr th:only-of-type {\n",
       "        vertical-align: middle;\n",
       "    }\n",
       "\n",
       "    .dataframe tbody tr th {\n",
       "        vertical-align: top;\n",
       "    }\n",
       "\n",
       "    .dataframe thead th {\n",
       "        text-align: right;\n",
       "    }\n",
       "</style>\n",
       "<table border=\"1\" class=\"dataframe\">\n",
       "  <thead>\n",
       "    <tr style=\"text-align: right;\">\n",
       "      <th></th>\n",
       "      <th>Diện tích</th>\n",
       "      <th>Diện tích_unit</th>\n",
       "      <th>Giá</th>\n",
       "      <th>Giá_unit</th>\n",
       "      <th>Mặt tiền</th>\n",
       "      <th>Mặt tiền_unit</th>\n",
       "      <th>Đường vào</th>\n",
       "      <th>Đường vào_unit</th>\n",
       "      <th>Số tầng</th>\n",
       "      <th>Số tầng_unit</th>\n",
       "      <th>Số phòng vệ sinh</th>\n",
       "      <th>Pháp lý</th>\n",
       "      <th>Hướng nhà</th>\n",
       "      <th>Hướng ban công</th>\n",
       "    </tr>\n",
       "  </thead>\n",
       "  <tbody>\n",
       "    <tr>\n",
       "      <th>0</th>\n",
       "      <td>105.0</td>\n",
       "      <td>m</td>\n",
       "      <td>16.0</td>\n",
       "      <td>Tỷ</td>\n",
       "      <td>4.6</td>\n",
       "      <td>m</td>\n",
       "      <td>15.0</td>\n",
       "      <td>m</td>\n",
       "      <td>5.0</td>\n",
       "      <td>tầng</td>\n",
       "      <td>4</td>\n",
       "      <td>Sổ đỏ/ Sổ hồng</td>\n",
       "      <td>NaN</td>\n",
       "      <td>NaN</td>\n",
       "    </tr>\n",
       "    <tr>\n",
       "      <th>1</th>\n",
       "      <td>86.0</td>\n",
       "      <td>m</td>\n",
       "      <td>3.9</td>\n",
       "      <td>Tỷ</td>\n",
       "      <td>6.7</td>\n",
       "      <td>m</td>\n",
       "      <td>3.0</td>\n",
       "      <td>m</td>\n",
       "      <td>4.0</td>\n",
       "      <td>tầng</td>\n",
       "      <td>NaN</td>\n",
       "      <td>Sổ đỏ/ Sổ hồng</td>\n",
       "      <td>NaN</td>\n",
       "      <td>NaN</td>\n",
       "    </tr>\n",
       "    <tr>\n",
       "      <th>2</th>\n",
       "      <td>183.0</td>\n",
       "      <td>m</td>\n",
       "      <td>20.0</td>\n",
       "      <td>Tỷ</td>\n",
       "      <td>9.0</td>\n",
       "      <td>m</td>\n",
       "      <td>26.0</td>\n",
       "      <td>m</td>\n",
       "      <td>NaN</td>\n",
       "      <td>NaN</td>\n",
       "      <td>NaN</td>\n",
       "      <td>Sổ đỏ/ Sổ hồng</td>\n",
       "      <td>NaN</td>\n",
       "      <td>NaN</td>\n",
       "    </tr>\n",
       "    <tr>\n",
       "      <th>3</th>\n",
       "      <td>56.0</td>\n",
       "      <td>m</td>\n",
       "      <td>5.5</td>\n",
       "      <td>Tỷ</td>\n",
       "      <td>5.0</td>\n",
       "      <td>m</td>\n",
       "      <td>6.0</td>\n",
       "      <td>m</td>\n",
       "      <td>5.0</td>\n",
       "      <td>tầng</td>\n",
       "      <td>4</td>\n",
       "      <td>Sổ đỏ/ Sổ hồng</td>\n",
       "      <td>NaN</td>\n",
       "      <td>NaN</td>\n",
       "    </tr>\n",
       "    <tr>\n",
       "      <th>4</th>\n",
       "      <td>286.0</td>\n",
       "      <td>m</td>\n",
       "      <td>116.0</td>\n",
       "      <td>Tỷ</td>\n",
       "      <td>21.0</td>\n",
       "      <td>m</td>\n",
       "      <td>30.0</td>\n",
       "      <td>m</td>\n",
       "      <td>3.0</td>\n",
       "      <td>tầng</td>\n",
       "      <td>NaN</td>\n",
       "      <td>Sổ đỏ/ Sổ hồng</td>\n",
       "      <td>NaN</td>\n",
       "      <td>NaN</td>\n",
       "    </tr>\n",
       "  </tbody>\n",
       "</table>\n",
       "</div>"
      ],
      "text/plain": [
       "   Diện tích Diện tích_unit    Giá Giá_unit Mặt tiền Mặt tiền_unit  Đường vào  \\\n",
       "0      105.0              m   16.0       Tỷ      4.6             m       15.0   \n",
       "1       86.0              m    3.9       Tỷ      6.7             m        3.0   \n",
       "2      183.0              m   20.0       Tỷ      9.0             m       26.0   \n",
       "3       56.0              m    5.5       Tỷ      5.0             m        6.0   \n",
       "4      286.0              m  116.0       Tỷ     21.0             m       30.0   \n",
       "\n",
       "  Đường vào_unit  Số tầng Số tầng_unit Số phòng vệ sinh         Pháp lý  \\\n",
       "0              m      5.0         tầng                4  Sổ đỏ/ Sổ hồng   \n",
       "1              m      4.0         tầng              NaN  Sổ đỏ/ Sổ hồng   \n",
       "2              m      NaN          NaN              NaN  Sổ đỏ/ Sổ hồng   \n",
       "3              m      5.0         tầng                4  Sổ đỏ/ Sổ hồng   \n",
       "4              m      3.0         tầng              NaN  Sổ đỏ/ Sổ hồng   \n",
       "\n",
       "  Hướng nhà Hướng ban công  \n",
       "0       NaN            NaN  \n",
       "1       NaN            NaN  \n",
       "2       NaN            NaN  \n",
       "3       NaN            NaN  \n",
       "4       NaN            NaN  "
      ]
     },
     "execution_count": 2,
     "metadata": {},
     "output_type": "execute_result"
    }
   ],
   "source": [
    "house_data_json = json.load(open('extracted_data.json', 'r'))\n",
    "house_data = pd.DataFrame()\n",
    "\n",
    "for house_info in house_data_json:\n",
    "    house_info = pd.DataFrame(house_info, index=[0])\n",
    "    house_data = pd.concat([house_data, house_info], ignore_index=True)\n",
    "\n",
    "house_data.head()"
   ]
  },
  {
   "cell_type": "code",
   "execution_count": 3,
   "metadata": {},
   "outputs": [
    {
     "data": {
      "text/plain": [
       "(500, 14)"
      ]
     },
     "execution_count": 3,
     "metadata": {},
     "output_type": "execute_result"
    }
   ],
   "source": [
    "# Dataset size\n",
    "house_data.shape"
   ]
  },
  {
   "cell_type": "code",
   "execution_count": 4,
   "metadata": {},
   "outputs": [
    {
     "name": "stdout",
     "output_type": "stream",
     "text": [
      "<class 'pandas.core.frame.DataFrame'>\n",
      "RangeIndex: 500 entries, 0 to 499\n",
      "Data columns (total 14 columns):\n",
      " #   Column            Non-Null Count  Dtype  \n",
      "---  ------            --------------  -----  \n",
      " 0   Diện tích         493 non-null    float64\n",
      " 1   Diện tích_unit    493 non-null    object \n",
      " 2   Giá               472 non-null    float64\n",
      " 3   Giá_unit          472 non-null    object \n",
      " 4   Mặt tiền          420 non-null    object \n",
      " 5   Mặt tiền_unit     417 non-null    object \n",
      " 6   Đường vào         491 non-null    float64\n",
      " 7   Đường vào_unit    491 non-null    object \n",
      " 8   Số tầng           417 non-null    float64\n",
      " 9   Số tầng_unit      417 non-null    object \n",
      " 10  Số phòng vệ sinh  375 non-null    object \n",
      " 11  Pháp lý           500 non-null    object \n",
      " 12  Hướng nhà         55 non-null     object \n",
      " 13  Hướng ban công    55 non-null     object \n",
      "dtypes: float64(4), object(10)\n",
      "memory usage: 54.8+ KB\n"
     ]
    }
   ],
   "source": [
    " # Details on columns in dataset: name, non-null count, data type\n",
    "house_data.info()"
   ]
  },
  {
   "cell_type": "code",
   "execution_count": 5,
   "metadata": {},
   "outputs": [
    {
     "data": {
      "text/plain": [
       "Diện tích           120\n",
       "Diện tích_unit        1\n",
       "Giá                 176\n",
       "Giá_unit              2\n",
       "Mặt tiền             66\n",
       "Mặt tiền_unit         1\n",
       "Đường vào            33\n",
       "Đường vào_unit        1\n",
       "Số tầng              24\n",
       "Số tầng_unit          1\n",
       "Số phòng vệ sinh     27\n",
       "Pháp lý               3\n",
       "Hướng nhà             5\n",
       "Hướng ban công        3\n",
       "dtype: int64"
      ]
     },
     "execution_count": 5,
     "metadata": {},
     "output_type": "execute_result"
    }
   ],
   "source": [
    "# Number of unique values within each column\n",
    "house_data.nunique()"
   ]
  },
  {
   "cell_type": "code",
   "execution_count": 6,
   "metadata": {},
   "outputs": [
    {
     "name": "stdout",
     "output_type": "stream",
     "text": [
      ">> Diện tích: ['m', nan]\n",
      ">> Giá: ['Tỷ', nan, 'Triệu']\n",
      ">> Mặt tiền: ['m', nan]\n",
      ">> Đường vào: ['m', nan]\n",
      ">> Số tầng: ['tầng', nan]\n"
     ]
    }
   ],
   "source": [
    "# Unique values within each unit column\n",
    "print(\">> Diện tích:\", house_data['Diện tích_unit'].unique().tolist())\n",
    "print(\">> Giá:\", house_data['Giá_unit'].unique().tolist())\n",
    "print(\">> Mặt tiền:\", house_data['Mặt tiền_unit'].unique().tolist())\n",
    "print(\">> Đường vào:\", house_data['Đường vào_unit'].unique().tolist())\n",
    "print(\">> Số tầng:\", house_data['Số tầng_unit'].unique().tolist())"
   ]
  },
  {
   "cell_type": "code",
   "execution_count": 7,
   "metadata": {},
   "outputs": [
    {
     "name": "stdout",
     "output_type": "stream",
     "text": [
      ">> Pháp lý: ['Sổ đỏ/ Sổ hồng', 'Đang chờ sổ', 'Hợp đồng mua bán']\n",
      ">> Hướng nhà: [nan, 'KXĐ', 'Đông Nam', 'Nam', 'Tây', 'Tây Nam']\n",
      ">> Hướng ban công: [nan, 'KXĐ', 'Nam', 'Đông Nam']\n"
     ]
    }
   ],
   "source": [
    "# Unique values within categorical columns\n",
    "print(\">> Pháp lý:\", house_data['Pháp lý'].unique().tolist())\n",
    "print(\">> Hướng nhà:\", house_data['Hướng nhà'].unique().tolist())\n",
    "print(\">> Hướng ban công:\", house_data['Hướng ban công'].unique().tolist())"
   ]
  },
  {
   "cell_type": "code",
   "execution_count": 8,
   "metadata": {},
   "outputs": [
    {
     "name": "stdout",
     "output_type": "stream",
     "text": [
      ">> Pháp lý: Pháp lý\n",
      "Sổ đỏ/ Sổ hồng      476\n",
      "Đang chờ sổ          20\n",
      "Hợp đồng mua bán      4\n",
      "Name: count, dtype: int64\n",
      ">> Hướng nhà: Hướng nhà\n",
      "NaN         445\n",
      "KXĐ          48\n",
      "Đông Nam      3\n",
      "Tây Nam       2\n",
      "Nam           1\n",
      "Tây           1\n",
      "Name: count, dtype: int64\n",
      ">> Hướng ban công: Hướng ban công\n",
      "NaN         445\n",
      "KXĐ          52\n",
      "Đông Nam      2\n",
      "Nam           1\n",
      "Name: count, dtype: int64\n"
     ]
    },
    {
     "data": {
      "image/png": "[encoded data removed]",
      "text/plain": [
       "<Figure size 1500x500 with 3 Axes>"
      ]
     },
     "metadata": {},
     "output_type": "display_data"
    }
   ],
   "source": [
    "# Analyze distribution within categorical columns. including NaN counts.\n",
    "print(\">> Pháp lý:\", house_data['Pháp lý'].value_counts(dropna=False))\n",
    "print(\">> Hướng nhà:\", house_data['Hướng nhà'].value_counts(dropna=False))\n",
    "print(\">> Hướng ban công:\", house_data['Hướng ban công'].value_counts(dropna=False))\n",
    "\n",
    "fig, axes = plt.subplots(1, 3, figsize=(15, 5))\n",
    "house_data['Pháp lý'].value_counts(dropna=False).plot(kind='bar', ax=axes[0], rot=45)\n",
    "house_data['Hướng nhà'].value_counts(dropna=False).plot(kind='bar', ax=axes[1], rot=45)\n",
    "house_data['Hướng ban công'].value_counts(dropna=False).plot(kind='bar', ax=axes[2], rot=45)\n",
    "\n",
    "plt.show()"
   ]
  },
  {
   "cell_type": "markdown",
   "metadata": {},
   "source": [
    "### END EDA"
   ]
  }
 ],
 "metadata": {
  "kernelspec": {
   "display_name": ".venv",
   "language": "python",
   "name": "python3"
  },
  "language_info": {
   "codemirror_mode": {
    "name": "ipython",
    "version": 3
   },
   "file_extension": ".py",
   "mimetype": "text/x-python",
   "name": "python",
   "nbconvert_exporter": "python",
   "pygments_lexer": "ipython3",
   "version": "3.10.9"
  }
 },
 "nbformat": 4,
 "nbformat_minor": 2
}
