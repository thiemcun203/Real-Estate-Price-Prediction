{
 "cells": [
  {
   "cell_type": "code",
   "execution_count": 2,
   "metadata": {},
   "outputs": [],
   "source": [
    "import pandas as pd\n",
    "import os\n",
    "house_data = pd.read_csv(os.path.abspath('alonhadat_origin.csv'))"
   ]
  },
  {
   "cell_type": "code",
   "execution_count": 3,
   "metadata": {},
   "outputs": [
    {
     "name": "stdout",
     "output_type": "stream",
     "text": [
      "<class 'pandas.core.frame.DataFrame'>\n",
      "RangeIndex: 166024 entries, 0 to 166023\n",
      "Data columns (total 22 columns):\n",
      " #   Column           Non-Null Count   Dtype  \n",
      "---  ------           --------------   -----  \n",
      " 0   url              166024 non-null  object \n",
      " 1   title            166024 non-null  object \n",
      " 2   description      165383 non-null  object \n",
      " 3   price            166023 non-null  object \n",
      " 4   area             166023 non-null  object \n",
      " 5   address          166023 non-null  object \n",
      " 6   Mã tin           166023 non-null  float64\n",
      " 7   Hướng            166023 non-null  object \n",
      " 8   Phòng ăn         166023 non-null  object \n",
      " 9   Loại tin         166023 non-null  object \n",
      " 10  Đường trước nhà  166023 non-null  object \n",
      " 11  Nhà bếp          166023 non-null  object \n",
      " 12  Loại BDS         166023 non-null  object \n",
      " 13  Pháp lý          166023 non-null  object \n",
      " 14  Sân thượng       166023 non-null  object \n",
      " 15  Chiều ngang      166023 non-null  object \n",
      " 16  Số lầu           166023 non-null  object \n",
      " 17  Chổ để xe hơi    166023 non-null  object \n",
      " 18  Chiều dài        166023 non-null  object \n",
      " 19  Số phòng ngủ     166023 non-null  object \n",
      " 20  Chính chủ        166023 non-null  object \n",
      " 21  Thuoc du an      7213 non-null    object \n",
      "dtypes: float64(1), object(21)\n",
      "memory usage: 27.9+ MB\n"
     ]
    }
   ],
   "source": [
    "house_data.info()"
   ]
  },
  {
   "cell_type": "code",
   "execution_count": 4,
   "metadata": {},
   "outputs": [
    {
     "data": {
      "text/plain": [
       "array(['Nhà trong hẻm', 'Căn hộ chung cư', 'Nhà mặt tiền',\n",
       "       'Biệt thự, nhà liền kề', 'Đất thổ cư, đất ở',\n",
       "       'Đất nền, liền kề, đất dự án', 'Nhà hàng, khách sạn', 'Văn phòng',\n",
       "       'Kho, xưởng', 'Phòng trọ, nhà trọ', 'Shop, kiot, quán', 'Mặt bằng',\n",
       "       'Đất nông, lâm nghiệp', 'Các loại khác', 'Trang trại', nan],\n",
       "      dtype=object)"
      ]
     },
     "execution_count": 4,
     "metadata": {},
     "output_type": "execute_result"
    }
   ],
   "source": [
    "house_data['Loại BDS'].unique()"
   ]
  }
 ],
 "metadata": {
  "kernelspec": {
   "display_name": "for_jupyter",
   "language": "python",
   "name": "python3"
  },
  "language_info": {
   "codemirror_mode": {
    "name": "ipython",
    "version": 3
   },
   "file_extension": ".py",
   "mimetype": "text/x-python",
   "name": "python",
   "nbconvert_exporter": "python",
   "pygments_lexer": "ipython3",
   "version": "3.10.4"
  }
 },
 "nbformat": 4,
 "nbformat_minor": 2
}
